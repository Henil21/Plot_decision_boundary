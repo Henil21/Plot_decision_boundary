{
  "nbformat": 4,
  "nbformat_minor": 0,
  "metadata": {
    "colab": {
      "provenance": [],
      "collapsed_sections": [],
      "authorship_tag": "ABX9TyMct4kfNepqb6i/bDbknyM9",
      "include_colab_link": true
    },
    "kernelspec": {
      "name": "python3",
      "display_name": "Python 3"
    },
    "language_info": {
      "name": "python"
    }
  },
  "cells": [
    {
      "cell_type": "markdown",
      "metadata": {
        "id": "view-in-github",
        "colab_type": "text"
      },
      "source": [
        "<a href=\"https://colab.research.google.com/github/Henil21/Plot_decision_boundary/blob/main/plot_decision_boundar_.ipynb\" target=\"_parent\"><img src=\"https://colab.research.google.com/assets/colab-badge.svg\" alt=\"Open In Colab\"/></a>"
      ]
    },
    {
      "cell_type": "code",
      "execution_count": null,
      "metadata": {
        "id": "T_HFWIfz2QJO"
      },
      "outputs": [],
      "source": [
        "def plot_decision_boundary(model,x,y):\n",
        "  \"\"\"\n",
        "  plots the decison boundary created by a model predicting on x\n",
        "  1. CS231n - https://cs231n.github.io/neural-networks-case-study/\n",
        "   2. Made with ML basics - https://github.com/GokuMohandas/MadeWithML/blob/main/notebooks/08_Neural_Networks.ipynb\n",
        "  \"\"\"\n",
        "  x_min,x_max  =x[:,0].min()-0.1,x[:,0].max()+0.1\n",
        "  y_min,y_max =x[:,1].min()-0.1,x[:,1].max()+0.1\n",
        "\n",
        "  # (linspace) return evenly space number between x_min,x_max \n",
        "  xx,yy=np.meshgrid(np.linspace(x_min,x_max,100),\n",
        "                    np.linspace(y_min,y_max,100))\n",
        "\n",
        "  x_in=np.c_[xx.ravel(),yy.ravel()]\n",
        "# making prediction\n",
        "  y_pred=model.predict(x_in)\n",
        "  # check for multi class\n",
        "  if len(y_pred[0])>1:\n",
        "    print(\"multiclass\")\n",
        "    y_pred=np.argmax(y_pred,axis=1).reshape(xx.shape)\n",
        "  else:\n",
        "    print(\"binary\")\n",
        "    y_pred=np.round(y_pred).reshape(xx.shape)\n",
        "    plt.contourf(xx, yy, y_pred, cmap=plt.cm.RdYlBu, alpha=0.7)\n",
        "  plt.scatter(x[:, 0], x[:, 1], c=y, s=40, cmap=plt.cm.RdYlBu)\n",
        "  plt.xlim(xx.min(),xx.max())\n",
        "  plt.ylim(yy.min(),yy.max())\n",
        "\n"
      ]
    }
  ]
}